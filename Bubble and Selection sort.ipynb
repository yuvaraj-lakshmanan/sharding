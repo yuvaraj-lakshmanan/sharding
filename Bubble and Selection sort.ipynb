{
 "cells": [
  {
   "cell_type": "code",
   "execution_count": 57,
   "metadata": {},
   "outputs": [],
   "source": [
    "lis = [7,3,1,0,9,8,2]"
   ]
  },
  {
   "cell_type": "code",
   "execution_count": 54,
   "metadata": {},
   "outputs": [
    {
     "name": "stdout",
     "output_type": "stream",
     "text": [
      "[0, 1, 2, 3, 7, 8, 9]\n"
     ]
    }
   ],
   "source": [
    "for i in range(len(lis)):\n",
    "    for j in range (i+1 ,len(lis)):\n",
    "        if lis[j] < lis [i]:\n",
    "            tmp = lis[j]\n",
    "            lis[j] = lis[i]\n",
    "            lis[i] = tmp\n",
    "    \n",
    "print (lis)"
   ]
  },
  {
   "cell_type": "code",
   "execution_count": 58,
   "metadata": {},
   "outputs": [
    {
     "name": "stdout",
     "output_type": "stream",
     "text": [
      "[0, 1, 2, 3, 7, 8, 9]\n"
     ]
    }
   ],
   "source": [
    "for i in range(len(lis)):\n",
    "    min_index = i\n",
    "    for j in range (i+1 ,len(lis)):\n",
    "        if lis[j] < lis [min_index]:\n",
    "            min_index = j \n",
    "    tmp = lis[min_index]\n",
    "    lis[min_index] = lis[i]\n",
    "    lis[i] = tmp\n",
    "    \n",
    "print (lis)"
   ]
  },
  {
   "cell_type": "code",
   "execution_count": 30,
   "metadata": {},
   "outputs": [
    {
     "name": "stdout",
     "output_type": "stream",
     "text": [
      "[7, 3, 2, 0, 9, 8, 1]\n"
     ]
    }
   ],
   "source": []
  },
  {
   "cell_type": "code",
   "execution_count": null,
   "metadata": {},
   "outputs": [],
   "source": []
  },
  {
   "cell_type": "code",
   "execution_count": null,
   "metadata": {},
   "outputs": [],
   "source": []
  },
  {
   "cell_type": "code",
   "execution_count": null,
   "metadata": {},
   "outputs": [],
   "source": []
  }
 ],
 "metadata": {
  "kernelspec": {
   "display_name": "Python 3",
   "language": "python",
   "name": "python3"
  },
  "language_info": {
   "codemirror_mode": {
    "name": "ipython",
    "version": 3
   },
   "file_extension": ".py",
   "mimetype": "text/x-python",
   "name": "python",
   "nbconvert_exporter": "python",
   "pygments_lexer": "ipython3",
   "version": "3.7.4"
  }
 },
 "nbformat": 4,
 "nbformat_minor": 2
}
