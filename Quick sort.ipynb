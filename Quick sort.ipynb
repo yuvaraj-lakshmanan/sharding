{
 "cells": [
  {
   "cell_type": "code",
   "execution_count": 70,
   "metadata": {},
   "outputs": [
    {
     "name": "stdout",
     "output_type": "stream",
     "text": [
      "<class 'str'>\n"
     ]
    }
   ],
   "source": [
    "def quick_sort(seq):\n",
    "    \n",
    "    if len(seq) <= 1:\n",
    "        return seq\n",
    "    else:\n",
    "        pivot = seq.pop()\n",
    "        #print (pivot)\n",
    "        \n",
    "    high = []\n",
    "    low = []\n",
    "    \n",
    "    for i in seq:\n",
    "        #print (i)\n",
    "        if i > pivot:\n",
    "            high.append(i)\n",
    "            #print (high)\n",
    "        else:\n",
    "            low.append(i)\n",
    "            #print (low)\n",
    "\n",
    "    return quick_sort(low) + [pivot] + quick_sort(high)\n",
    "\n",
    "aip = (quick_sort([7,3,1,0,9,8,2]))\n",
    "sip = str(aip)\n",
    "print (type(sip))\n",
    "with open (\"output.txt\",'w')as wf:\n",
    "    wf.write(sip)"
   ]
  },
  {
   "cell_type": "code",
   "execution_count": null,
   "metadata": {},
   "outputs": [],
   "source": []
  },
  {
   "cell_type": "code",
   "execution_count": null,
   "metadata": {},
   "outputs": [],
   "source": []
  }
 ],
 "metadata": {
  "kernelspec": {
   "display_name": "Python 3",
   "language": "python",
   "name": "python3"
  },
  "language_info": {
   "codemirror_mode": {
    "name": "ipython",
    "version": 3
   },
   "file_extension": ".py",
   "mimetype": "text/x-python",
   "name": "python",
   "nbconvert_exporter": "python",
   "pygments_lexer": "ipython3",
   "version": "3.7.4"
  }
 },
 "nbformat": 4,
 "nbformat_minor": 2
}
